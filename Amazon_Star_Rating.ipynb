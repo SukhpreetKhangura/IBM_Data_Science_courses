{
 "cells": [
  {
   "cell_type": "markdown",
   "metadata": {},
   "source": [
    "# Step I DataSet Information"
   ]
  },
  {
   "cell_type": "markdown",
   "metadata": {},
   "source": [
    "### 1. Dataset link\n",
    "\n",
    "The dataset can be  downloaded from the following link\n",
    "\n",
    "<https://s3.amazonaws.com/amazon-reviews-pds/tsv/amazon_reviews_us_Gift_Card_v1_00.tsv.gz>\n",
    "\n",
    "\n",
    "*The dataset is about the amazon reviews of the Gift Card.* "
   ]
  },
  {
   "cell_type": "markdown",
   "metadata": {},
   "source": [
    "### 2. Dataset Description\n",
    "| Dataset Description |    |                                                                                     |\n",
    "|---------------------|----|-------------------------------------------------------------------------------------|\n",
    "| marketplace         | -  | 2 letter country code of the marketplace where the review was written.              |\n",
    "| customer_id         | -  | Random identifier that can be used to aggregate reviews written by a single author. |\n",
    "| review_id           | -  | The unique ID of the review.                                                        |\n",
    "| product_id          | -  | The unique Product ID the review pertains to.                                       |\n",
    "| product_title       | -  | Title of the product.                                                               |\n",
    "| product_category    | -  | Broad product category that can be used to group reviews                            |\n",
    "| star_rating         | -  | The 1-5 star rating of the review.                                                  |\n",
    "| helpful_votes       | -  | Number of helpful votes.                                                            |\n",
    "| total_votes         | -  | Number of total votes the review received.                                          |\n",
    "| vine                | -  | Review was written as part of the Vine program.                                     |\n",
    "| verified_purchase   | -  | The review is on a verified purchase.                                               |\n",
    "| review_headline     | -  | The title of the review.                                                            |\n",
    "| review_body         | -  | The review text.                                                                    |\n",
    "| review_date         | -  | The date the review was written.                                                    |"
   ]
  },
  {
   "cell_type": "markdown",
   "metadata": {},
   "source": [
    "### 3. DATA FORMAT\n",
    "\n",
    "Tab ('\\t') separated text file, without quote or escape characters.\n",
    "\n",
    "First line in each file is header; 1 line corresponds to 1 record."
   ]
  },
  {
   "cell_type": "markdown",
   "metadata": {},
   "source": [
    "# Step II: Data Ingestion (preprocessing and cleaning)\n",
    "\n",
    "### 1. To avoid the file to occupy memory space avoid unzipping it: Open and read the dataset with *gzip* library \n",
    "### 2. Open the file from the mentioned path in read text mode, providing the encoding format and ignoring the errors that may occur due to zipped format"
   ]
  },
  {
   "cell_type": "code",
   "execution_count": 1,
   "metadata": {},
   "outputs": [],
   "source": [
    "import gzip\n",
    "path= 'D:\\IBM\\\\amazon_reviews_us_Gift_Card_v1_00n.tsv.gz'\n",
    "f= gzip.open(path,'rt',encoding=\"utf8\",errors='ignore')"
   ]
  },
  {
   "cell_type": "markdown",
   "metadata": {},
   "source": [
    "### 3. Read the csv file with delimiter mentioned in dataset decription. It is tab separated."
   ]
  },
  {
   "cell_type": "code",
   "execution_count": 2,
   "metadata": {},
   "outputs": [],
   "source": [
    "import csv\n",
    "reader= csv.reader(f, delimiter='\\t')\n",
    "\n",
    "\n"
   ]
  },
  {
   "cell_type": "markdown",
   "metadata": {},
   "source": [
    "### 4. In order to read the file at once use 'next' iterator to read the file's line one by one\n",
    "\n",
    "__Note__: The first line corresponds to header as mentioned in dataformat."
   ]
  },
  {
   "cell_type": "code",
   "execution_count": 3,
   "metadata": {},
   "outputs": [
    {
     "name": "stdout",
     "output_type": "stream",
     "text": [
      "['marketplace', 'customer_id', 'review_id', 'product_id', 'product_parent', 'product_title', 'product_category', 'star_rating', 'helpful_votes', 'total_votes', 'vine', 'verified_purchase', 'review_headline', 'review_body', 'review_date']\n"
     ]
    }
   ],
   "source": [
    "header= next(reader) \n",
    "print(header)"
   ]
  },
  {
   "cell_type": "markdown",
   "metadata": {},
   "source": [
    "### 5. Below we will:\n",
    "(a) Read the lines from file in sequential manner.   \n",
    "(b) Create the dictionary corresponding to attribute: value pair and append it to the dataset list."
   ]
  },
  {
   "cell_type": "code",
   "execution_count": 4,
   "metadata": {},
   "outputs": [],
   "source": [
    "dataset=[]"
   ]
  },
  {
   "cell_type": "code",
   "execution_count": 5,
   "metadata": {},
   "outputs": [],
   "source": [
    "for line in reader:                      # Read the file's line in a sequential manner\n",
    "    d =dict(zip(header,line))            # Create a dictionary with key corresponding to attributes\n",
    "    for field in ['star_rating','helpful_votes', 'total_votes']:     # Convert the mentioned fields to \"int\" datatype\n",
    "        d[field]=int(d[field])\n",
    "    for field in ['vine','verified_purchase']: # Convert the mentioned field into  \"boolean\"\n",
    "        if d[field]== 'Y':                            \n",
    "            d[field]= True\n",
    "        else:\n",
    "            d[field]=False\n",
    "    dataset.append(d)                   # Append the dictionary to dataset list"
   ]
  },
  {
   "cell_type": "code",
   "execution_count": 6,
   "metadata": {},
   "outputs": [
    {
     "name": "stdout",
     "output_type": "stream",
     "text": [
      "{'marketplace': 'US', 'customer_id': '24371595', 'review_id': 'R27ZP1F1CD0C3Y', 'product_id': 'B004LLIL5A', 'product_parent': '346014806', 'product_title': 'Amazon eGift Card - Celebrate', 'product_category': 'Gift Card', 'star_rating': 5, 'helpful_votes': 0, 'total_votes': 0, 'vine': False, 'verified_purchase': True, 'review_headline': 'Five Stars', 'review_body': 'Great birthday gift for a young adult.', 'review_date': '2015-08-31'}\n",
      "Dataset contains: 148310 entries.\n"
     ]
    }
   ],
   "source": [
    "chunk= dataset[0] # Lets call it a chunk\n",
    "print(chunk)\n",
    "\n",
    "\n",
    "len_dataset = len(dataset)\n",
    "print('Dataset contains: '  +str(len_dataset) +' entries.')\n"
   ]
  },
  {
   "cell_type": "markdown",
   "metadata": {},
   "source": [
    "# Step II: Simple statistics (Exploratory Data Analysis)"
   ]
  },
  {
   "cell_type": "markdown",
   "metadata": {},
   "source": [
    "### 1. What is  Average star_rating?\n"
   ]
  },
  {
   "cell_type": "markdown",
   "metadata": {},
   "source": [
    "#### Method 1"
   ]
  },
  {
   "cell_type": "code",
   "execution_count": 7,
   "metadata": {},
   "outputs": [
    {
     "name": "stdout",
     "output_type": "stream",
     "text": [
      "Avgerage Star Rating is: 4.731333018677096\n"
     ]
    }
   ],
   "source": [
    "rating_listf= []\n",
    "for i in range(len(dataset)):\n",
    "    ratingf= dataset[i]['star_rating']\n",
    "    rating_listf.append(ratingf)\n",
    "Avg_starf= sum(rating_listf)/len(rating_listf)\n",
    "print('Avgerage Star Rating is: ' +  str(Avg_starf))"
   ]
  },
  {
   "cell_type": "markdown",
   "metadata": {},
   "source": [
    "#### Method 2"
   ]
  },
  {
   "cell_type": "code",
   "execution_count": 8,
   "metadata": {},
   "outputs": [
    {
     "name": "stdout",
     "output_type": "stream",
     "text": [
      "Avgerage Star Rating is: 4.731333018677096\n"
     ]
    }
   ],
   "source": [
    "rating_list= [chunk['star_rating'] for chunk in dataset] # create a list of rating using list comprehension\n",
    "Avg_star= sum(rating_list)/len(rating_list)          # Calculate the average by summing up rating list/ length \n",
    "print('Avgerage Star Rating is: ' +  str(Avg_star))"
   ]
  },
  {
   "cell_type": "markdown",
   "metadata": {},
   "source": [
    "### 2. How is the Rating Distributed?"
   ]
  },
  {
   "cell_type": "markdown",
   "metadata": {},
   "source": [
    "__Note__ : Since we do not know in advance what are the ratings given in dataset, we will proceed with empty rating count dictionary.\n",
    "\n",
    "We will add the values on the fly:\n",
    "\n",
    "    if the key already exists : we will increment its value\n",
    "    \n",
    "    else we will add the new key and assign '1'\n",
    "    "
   ]
  },
  {
   "cell_type": "markdown",
   "metadata": {},
   "source": [
    "#### Method 1"
   ]
  },
  {
   "cell_type": "code",
   "execution_count": 9,
   "metadata": {},
   "outputs": [
    {
     "data": {
      "text/plain": [
       "{5: 129029, 1: 4766, 4: 9808, 2: 1560, 3: 3147}"
      ]
     },
     "execution_count": 9,
     "metadata": {},
     "output_type": "execute_result"
    }
   ],
   "source": [
    "rating_count_dictf={}  \n",
    "\n",
    "#keys: dataset['start_rating']\n",
    "#values: Total number corresonding to each start rating\n",
    "\n",
    "for chunk in dataset:     # As above chunk correspongs to one complete entry of dataset consisting of 12 fields \n",
    "    key=chunk['star_rating']\n",
    "    if key in rating_count_dictf:\n",
    "        rating_count_dictf[key]=rating_count_dictf[key]+1\n",
    "    else:\n",
    "        rating_count_dictf[key]=1\n",
    "rating_count_dictf"
   ]
  },
  {
   "cell_type": "markdown",
   "metadata": {},
   "source": [
    "#### Method 2"
   ]
  },
  {
   "cell_type": "code",
   "execution_count": 10,
   "metadata": {},
   "outputs": [
    {
     "data": {
      "text/plain": [
       "defaultdict(int, {5: 129029, 1: 4766, 4: 9808, 2: 1560, 3: 3147})"
      ]
     },
     "execution_count": 10,
     "metadata": {},
     "output_type": "execute_result"
    }
   ],
   "source": [
    "from collections import defaultdict\n",
    "\n",
    "rating_count_dict=defaultdict(int)\n",
    "\n",
    "for chunk in dataset:\n",
    "    key= chunk['star_rating']\n",
    "    rating_count_dict[key]+=1\n",
    "rating_count_dict"
   ]
  },
  {
   "cell_type": "markdown",
   "metadata": {},
   "source": [
    "### 3.  Can we find the number of Verified Purchaces?"
   ]
  },
  {
   "cell_type": "code",
   "execution_count": 11,
   "metadata": {},
   "outputs": [
    {
     "data": {
      "text/plain": [
       "defaultdict(int, {True: 135289, False: 13021})"
      ]
     },
     "execution_count": 11,
     "metadata": {},
     "output_type": "execute_result"
    }
   ],
   "source": [
    "purchase_count_dict=defaultdict(int)\n",
    "\n",
    "for chunk in dataset:\n",
    "    key= chunk['verified_purchase']\n",
    "    purchase_count_dict[key]+=1\n",
    "purchase_count_dict\n"
   ]
  },
  {
   "cell_type": "markdown",
   "metadata": {},
   "source": [
    "### 4. What are the Most popular products?\n",
    "\n",
    "__Note__: Since dictionary is unordered, we need to do the following:\n",
    "1. Create dictionary of product count\n",
    "2. Convert it into list containing tuple of product id and count\n",
    "3. Apply sort method"
   ]
  },
  {
   "cell_type": "code",
   "execution_count": 12,
   "metadata": {},
   "outputs": [],
   "source": [
    "# Create dictionary of product count\n",
    "product_count_dict=defaultdict(int)\n",
    "\n",
    "for chunk in dataset:\n",
    "    key= chunk['product_id']\n",
    "    product_count_dict[key]+=1\n",
    "#product_count_dict"
   ]
  },
  {
   "cell_type": "code",
   "execution_count": 13,
   "metadata": {},
   "outputs": [
    {
     "name": "stdout",
     "output_type": "stream",
     "text": [
      "[(2038, 'B004KNWWO0'), (2173, 'B0066AZGD4'), (2630, 'BT00DDC7CE'), (2643, 'B004LLIKY2'), (3407, 'BT00DDC7BK'), (3440, 'BT00CTOUNS'), (4283, 'B00IX1I3G6'), (5034, 'BT00DDVMVQ'), (6037, 'B00A48G0D4'), (28705, 'B004LLIKVU')]\n"
     ]
    }
   ],
   "source": [
    "#Convert it into list containing tuple of product id and count\n",
    "\n",
    "product_count_list = [( product_count_dict[key], key) for key in product_count_dict] # Noe value:key combination [Imp for sorting]\n",
    "\n",
    "#Apply sort method\n",
    "product_count_list.sort()\n",
    "\n",
    "# top 10 popular products\n",
    "print(product_count_list[-10:])\n"
   ]
  },
  {
   "cell_type": "markdown",
   "metadata": {},
   "source": [
    "### 5. What are the top rated products\n",
    "\n",
    "1. To find rating per product => key = 'product_id' , values= 'start_ratings'\n",
    "2. To find average rating per product => key = 'product_id', values = average(''star_ratings)"
   ]
  },
  {
   "cell_type": "code",
   "execution_count": 14,
   "metadata": {},
   "outputs": [],
   "source": [
    "ratingsPerProduct =defaultdict(list)\n",
    "\n",
    "for chunk in dataset:\n",
    "    key= chunk['product_id']\n",
    "    value=chunk['star_rating']\n",
    "    ratingsPerProduct[key].append(value)\n",
    "#ratingsPerProduct"
   ]
  },
  {
   "cell_type": "code",
   "execution_count": 15,
   "metadata": {},
   "outputs": [],
   "source": [
    "AvgratingPerProduct=defaultdict(float)\n",
    "for key in ratingsPerProduct:\n",
    "    AvgratingPerProduct[key]=sum(ratingsPerProduct[key])/len(ratingsPerProduct[key])\n",
    "#AvgratingPerProduct"
   ]
  },
  {
   "cell_type": "code",
   "execution_count": 16,
   "metadata": {},
   "outputs": [
    {
     "data": {
      "text/plain": [
       "[(4.918918918918919, 'B004KNWX94'),\n",
       " (4.919354838709677, 'B00CRQ496G'),\n",
       " (4.923076923076923, 'B00PMLDNBA'),\n",
       " (4.931034482758621, 'B00CT77E60'),\n",
       " (4.936842105263158, 'B004KNWX76'),\n",
       " (4.9423076923076925, 'B00SNMPQYC'),\n",
       " (4.944444444444445, 'B007V6EWKK'),\n",
       " (4.947368421052632, 'B004LLIL5K'),\n",
       " (4.955882352941177, 'B00H5BNKYA'),\n",
       " (4.966101694915254, 'B00P8N49M4')]"
      ]
     },
     "execution_count": 16,
     "metadata": {},
     "output_type": "execute_result"
    }
   ],
   "source": [
    "AvgratingPerProduct_List=[(AvgratingPerProduct[key], key) for key in AvgratingPerProduct if len(ratingsPerProduct[key]) > 50]\n",
    "AvgratingPerProduct_List.sort()\n",
    "AvgratingPerProduct_List[-10:]"
   ]
  },
  {
   "cell_type": "markdown",
   "metadata": {},
   "source": [
    "### 6. What is  the ID of Top Active users?\n",
    "\n",
    "We need to  do the following:\n",
    "    \n",
    "1. count the customer ids, by creating dictionary customer count\n",
    "\n",
    "    key = customer_id\n",
    "\n",
    "2. Then create  list of customer count\n",
    "3. Sort the list and find the top 10  active customers"
   ]
  },
  {
   "cell_type": "code",
   "execution_count": 17,
   "metadata": {},
   "outputs": [],
   "source": [
    "customer_count_dict=defaultdict(int)\n",
    "\n",
    "for chunk in dataset:\n",
    "    key= chunk['customer_id']\n",
    "    customer_count_dict[key]+=1\n",
    "#customer_count_dict"
   ]
  },
  {
   "cell_type": "code",
   "execution_count": 18,
   "metadata": {},
   "outputs": [
    {
     "data": {
      "text/plain": [
       "[(5, '42184434'),\n",
       " (5, '45298444'),\n",
       " (5, '45359231'),\n",
       " (5, '50442527'),\n",
       " (5, '50822336'),\n",
       " (5, '51046621'),\n",
       " (5, '5572588'),\n",
       " (6, '30058414'),\n",
       " (6, '52166758'),\n",
       " (7, '9374792')]"
      ]
     },
     "execution_count": 18,
     "metadata": {},
     "output_type": "execute_result"
    }
   ],
   "source": [
    "customer_count_list= [(customer_count_dict[key], key) for key in customer_count_dict ]\n",
    "customer_count_list.sort()\n",
    "customer_count_list[-10:]"
   ]
  },
  {
   "cell_type": "markdown",
   "metadata": {},
   "source": [
    "### 5. What is the average rating  of verified and non-verified purchases?\n",
    "\n",
    "1. To find rating per verified/non-verified product => key = 'verified_purchase' , values= 'start_ratings'\n",
    "2. To find average rating per verified/non-verified product => key = 'verified_purchase', values = average(''star_ratings)"
   ]
  },
  {
   "cell_type": "code",
   "execution_count": 19,
   "metadata": {},
   "outputs": [],
   "source": [
    "Verified_ratingsPerProduct =defaultdict(list)\n",
    "\n",
    "for chunk in dataset:\n",
    "    key= chunk['verified_purchase']\n",
    "    value=chunk['star_rating']\n",
    "    Verified_ratingsPerProduct[key].append(value)\n",
    "#Verified_ratingsPerProduct\n"
   ]
  },
  {
   "cell_type": "code",
   "execution_count": 20,
   "metadata": {},
   "outputs": [
    {
     "name": "stdout",
     "output_type": "stream",
     "text": [
      "Average rating for verified purchaces is: 4.746076916822506 and for non-verified purchaces is: 4.578142999769603\n"
     ]
    }
   ],
   "source": [
    "Verified_AvgratingPerProduct=defaultdict(float)\n",
    "for key in Verified_ratingsPerProduct:\n",
    "    Verified_AvgratingPerProduct[key]=sum(Verified_ratingsPerProduct[key])/len(Verified_ratingsPerProduct[key])\n",
    "#Verified_AvgratingPerProduct\n",
    "\n",
    "print('Average rating for verified purchaces is: ' + str (Verified_AvgratingPerProduct[True]) + ' and for non-verified purchaces is: '  +\n",
    "    str (Verified_AvgratingPerProduct[False]) )"
   ]
  },
  {
   "cell_type": "markdown",
   "metadata": {},
   "source": [
    "# Step III: Data preprocessing and Cleaning (if we want to work with dates and reject old reviews based on that)\n",
    "\n",
    "__Task__:  To filter out the older review:\n",
    "1. Find out if any the review date is missing\n",
    "2. Filter out the missing value\n",
    "3. Covert the year into integer: 'review_date': '2004-10-14'\n",
    "\n",
    "   To do so pick up first fout characters: '2004' and convert into int\n",
    "4. Then filter out the old reviwes let us say before 2010"
   ]
  },
  {
   "cell_type": "code",
   "execution_count": 21,
   "metadata": {},
   "outputs": [
    {
     "data": {
      "text/plain": [
       "148309"
      ]
     },
     "execution_count": 21,
     "metadata": {},
     "output_type": "execute_result"
    }
   ],
   "source": [
    "count=0\n",
    "for chunk in dataset:\n",
    "    if 'review_date' in chunk:\n",
    "        count+=1\n",
    "count"
   ]
  },
  {
   "cell_type": "markdown",
   "metadata": {},
   "source": [
    "*From the output it is clear one of the review date is missing. Lets filter it out that entry and create a new dataset.*\n"
   ]
  },
  {
   "cell_type": "code",
   "execution_count": 22,
   "metadata": {},
   "outputs": [
    {
     "data": {
      "text/plain": [
       "148309"
      ]
     },
     "execution_count": 22,
     "metadata": {},
     "output_type": "execute_result"
    }
   ],
   "source": [
    "dataset= [chunk for chunk in dataset if'review_date' in chunk]\n",
    "len(dataset)"
   ]
  },
  {
   "cell_type": "code",
   "execution_count": 23,
   "metadata": {},
   "outputs": [
    {
     "data": {
      "text/plain": [
       "'2004-10-14'"
      ]
     },
     "execution_count": 23,
     "metadata": {},
     "output_type": "execute_result"
    }
   ],
   "source": [
    "chunk['review_date']"
   ]
  },
  {
   "cell_type": "code",
   "execution_count": 24,
   "metadata": {},
   "outputs": [],
   "source": [
    "for chunk in dataset:\n",
    "    chunk['yearInt'] = int(chunk['review_date'][:4])"
   ]
  },
  {
   "cell_type": "code",
   "execution_count": 25,
   "metadata": {},
   "outputs": [
    {
     "data": {
      "text/plain": [
       "148095"
      ]
     },
     "execution_count": 25,
     "metadata": {},
     "output_type": "execute_result"
    }
   ],
   "source": [
    "dataset= [chunk for chunk in dataset if chunk['yearInt'] > 2009]\n",
    "len(dataset)"
   ]
  },
  {
   "cell_type": "markdown",
   "metadata": {},
   "source": [
    "# Step IV: Data Visualizations\n",
    "\n",
    "1. On which day of the week the people give the highest rating?\n",
    "\n",
    "   May be on Friday because they are in happy mood due to weekend. Lets try to find out."
   ]
  },
  {
   "cell_type": "code",
   "execution_count": 26,
   "metadata": {},
   "outputs": [],
   "source": [
    "import time\n",
    "WeekRatings= defaultdict(list)\n",
    "for chunk in dataset:\n",
    "    chunk['timeStruct']=time.strptime(chunk['review_date'], '%Y-%m-%d')\n",
    "    weekday= chunk['timeStruct'].tm_wday\n",
    "    WeekRatings[weekday].append(chunk['star_rating'])\n",
    "#WeekRatings\n",
    "    "
   ]
  },
  {
   "cell_type": "code",
   "execution_count": 27,
   "metadata": {},
   "outputs": [
    {
     "data": {
      "text/plain": [
       "defaultdict(int,\n",
       "            {0: 4.729210178594263,\n",
       "             6: 4.734280532043531,\n",
       "             5: 4.754074575615418,\n",
       "             4: 4.735956354893893,\n",
       "             3: 4.718771912250826,\n",
       "             2: 4.725917760950829,\n",
       "             1: 4.730875831485587})"
      ]
     },
     "execution_count": 27,
     "metadata": {},
     "output_type": "execute_result"
    }
   ],
   "source": [
    "Weekrating_Average=defaultdict(int)\n",
    "for key in WeekRatings:\n",
    "    Weekrating_Average[key]=sum(WeekRatings[key])/len(WeekRatings[key])\n",
    "Weekrating_Average"
   ]
  },
  {
   "cell_type": "code",
   "execution_count": 28,
   "metadata": {},
   "outputs": [
    {
     "name": "stdout",
     "output_type": "stream",
     "text": [
      "[0, 6, 5, 4, 3, 2, 1]\n",
      "[0, 1, 2, 3, 4, 5, 6]\n"
     ]
    },
    {
     "data": {
      "text/plain": [
       "[4.729210178594263,\n",
       " 4.730875831485587,\n",
       " 4.725917760950829,\n",
       " 4.718771912250826,\n",
       " 4.735956354893893,\n",
       " 4.754074575615418,\n",
       " 4.734280532043531]"
      ]
     },
     "execution_count": 28,
     "metadata": {},
     "output_type": "execute_result"
    }
   ],
   "source": [
    "X = list(Weekrating_Average.keys())\n",
    "print(X)\n",
    "X.sort()\n",
    "print(X)\n",
    "\n",
    "Y= [ Weekrating_Average[key] for key in X]\n",
    "Y"
   ]
  },
  {
   "cell_type": "markdown",
   "metadata": {},
   "source": [
    "### 1. Line Plot"
   ]
  },
  {
   "cell_type": "code",
   "execution_count": 29,
   "metadata": {},
   "outputs": [
    {
     "data": {
      "text/plain": [
       "([<matplotlib.axis.XTick at 0x14b0cbb82e8>,\n",
       "  <matplotlib.axis.XTick at 0x14b0cb9ac88>,\n",
       "  <matplotlib.axis.XTick at 0x14b0cb9a940>,\n",
       "  <matplotlib.axis.XTick at 0x14b0ce3a438>,\n",
       "  <matplotlib.axis.XTick at 0x14b0ce3a908>,\n",
       "  <matplotlib.axis.XTick at 0x14b0ce3ae48>,\n",
       "  <matplotlib.axis.XTick at 0x14b0ce3a9e8>],\n",
       " <a list of 7 Text xticklabel objects>)"
      ]
     },
     "execution_count": 29,
     "metadata": {},
     "output_type": "execute_result"
    },
    {
     "data": {
      "image/png": "[encoded data removed]",
      "text/plain": [
       "<Figure size 432x288 with 1 Axes>"
      ]
     },
     "metadata": {
      "needs_background": "light"
     },
     "output_type": "display_data"
    }
   ],
   "source": [
    "import matplotlib.pyplot as plt\n",
    "import numpy as np\n",
    "plt.plot(X, Y)\n",
    "plt.xlabel('Weekdays')\n",
    "plt.ylabel('Average Star Rating')\n",
    "plt.title(' Star Rating as  a function of WeekDay')\n",
    "plt.xticks(np.arange(7), ('S', 'M', 'T','W', 'T', 'F', 'S'))"
   ]
  },
  {
   "cell_type": "markdown",
   "metadata": {},
   "source": [
    "From the line chart it is clear, it is Friday.  \n",
    "\n",
    "Lets have a look at  the bar plot as well to find the weekday when useer provided highest rating"
   ]
  },
  {
   "cell_type": "markdown",
   "metadata": {},
   "source": [
    "### 2. Bar Plot"
   ]
  },
  {
   "cell_type": "code",
   "execution_count": 30,
   "metadata": {},
   "outputs": [
    {
     "data": {
      "text/plain": [
       "([<matplotlib.axis.XTick at 0x14b0cec58d0>,\n",
       "  <matplotlib.axis.XTick at 0x14b0cec53c8>,\n",
       "  <matplotlib.axis.XTick at 0x14b0cec5278>,\n",
       "  <matplotlib.axis.XTick at 0x14b0cf040b8>,\n",
       "  <matplotlib.axis.XTick at 0x14b0cf042e8>,\n",
       "  <matplotlib.axis.XTick at 0x14b0cf049e8>,\n",
       "  <matplotlib.axis.XTick at 0x14b0cf04eb8>],\n",
       " <a list of 7 Text xticklabel objects>)"
      ]
     },
     "execution_count": 30,
     "metadata": {},
     "output_type": "execute_result"
    },
    {
     "data": {
      "image/png": "[encoded data removed]",
      "text/plain": [
       "<Figure size 432x288 with 1 Axes>"
      ]
     },
     "metadata": {
      "needs_background": "light"
     },
     "output_type": "display_data"
    }
   ],
   "source": [
    "plt.ylim(min(np.array(Y)), max(np.array(Y)))\n",
    "plt.bar(X, Y)\n",
    "plt.xlabel('Weekdays')\n",
    "plt.ylabel('Average Star Rating')\n",
    "plt.title(' Star Rating as  a function of WeekDay')\n",
    "plt.xticks(np.arange(7), ('S', 'M', 'T','W', 'T', 'F', 'S'))"
   ]
  },
  {
   "cell_type": "markdown",
   "metadata": {},
   "source": [
    "# Summary\n",
    "\n",
    "So this concludes our project.\n",
    "\n",
    "To summarize, we look at:\n",
    "\n",
    "1. We looked at  how the Data can be injested without unzipping it.\n",
    "    \n",
    "2. We did Exploratory Data Analysis: by looking at the summary statistics and tried to get some insight of the Data.\n",
    "    \n",
    "3. We looked at how to work with date and time.\n",
    "    \n",
    "4. Finally, with the help of data visualization we ended up on the note that Friday is the good day to receive highest rating. \n",
    "       \n",
    "Thanks :)"
   ]
  }
 ],
 "metadata": {
  "kernelspec": {
   "display_name": "Python 3",
   "language": "python",
   "name": "python3"
  },
  "language_info": {
   "codemirror_mode": {
    "name": "ipython",
    "version": 3
   },
   "file_extension": ".py",
   "mimetype": "text/x-python",
   "name": "python",
   "nbconvert_exporter": "python",
   "pygments_lexer": "ipython3",
   "version": "3.7.3"
  }
 },
 "nbformat": 4,
 "nbformat_minor": 4
}
